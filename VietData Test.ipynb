{
 "cells": [
  {
   "cell_type": "code",
   "execution_count": 14,
   "id": "4cd65d52-10b9-4243-8d75-fc6299a28fe1",
   "metadata": {},
   "outputs": [
    {
     "name": "stdout",
     "output_type": "stream",
     "text": [
      "Câu 1: Số lần tung cần thiết để có 95% tự tin chiến thắng là: 645.58 lần\n",
      "Câu 2: Lợi nhuận kỳ vọng mỗi lần tung là: 1075.46 USD\n",
      "Câu 3: Mức thanh toán tối thiểu là: 1075.46 USD\n",
      "Câu 4: Mỗi người chơi cần tung khoảng 161.39 lần để đạt được 95% tự tin chiến thắng.\n",
      "Câu 5a: Xác suất thành công với 2 viên xúc xắc là: 0.0833\n",
      "Câu 5b: Lợi nhuận kỳ vọng mỗi lần tung xúc xắc với 2 viên là: 250916.67 USD\n",
      "Câu 5c: Lợi nhuận kỳ vọng khi trả 1 triệu đô la để hủy một viên xúc xắc là: -500000.00 USD\n",
      "Với kết quả này, bạn sẽ không trả tiền để hủy viên xúc xắc vì lợi nhuận kỳ vọng là âm.\n"
     ]
    }
   ],
   "source": [
    "import math\n",
    "\n",
    "# Câu 1: Tính số lần tung để có 95% tự tin chiến thắng\n",
    "P_success = 1 / 216  # Xác suất thắng 3 lần liên tiếp\n",
    "P_failure = 1 - P_success  # Xác suất thất bại\n",
    "\n",
    "# Tính số lần tung cần thiết để có xác suất chiến thắng 95%\n",
    "n = math.log(1 - 0.95) / math.log(P_failure)\n",
    "print(f\"Câu 1: Số lần tung cần thiết để có 95% tự tin chiến thắng là: {n:.2f} lần\")\n",
    "\n",
    "# Câu 2: Tính lợi nhuận kỳ vọng mỗi lần tung\n",
    "P_win = 1 / 216\n",
    "win_amount = 100000\n",
    "P_loss1 = 1 / 6\n",
    "loss_1 = 1000\n",
    "P_loss2_then_win = 1 / 36\n",
    "loss_2_then_win = 7800\n",
    "P_loss3_then_win = 1 / 216\n",
    "loss_3_then_win = 49500\n",
    "\n",
    "# Lợi nhuận kỳ vọng mỗi lần tung\n",
    "expected_profit = P_win * win_amount + P_loss1 * loss_1 + P_loss2_then_win * loss_2_then_win + P_loss3_then_win * loss_3_then_win\n",
    "print(f\"Câu 2: Lợi nhuận kỳ vọng mỗi lần tung là: {expected_profit:.2f} USD\")\n",
    "\n",
    "# Câu 3: Tính mức thanh toán tối thiểu (phí bảo hiểm)\n",
    "min_payment = abs(expected_profit)\n",
    "print(f\"Câu 3: Mức thanh toán tối thiểu là: {min_payment:.2f} USD\")\n",
    "\n",
    "# Câu 4: Chiến lược hiệu quả nhất với 4 người chơi\n",
    "total_rolls = n  # Số lần tung chung cho tất cả người chơi\n",
    "avg_rolls_per_player = total_rolls / 4\n",
    "print(f\"Câu 4: Mỗi người chơi cần tung khoảng {avg_rolls_per_player:.2f} lần để đạt được 95% tự tin chiến thắng.\")\n",
    "\n",
    "# Câu 5: Lặp lại các câu hỏi với 2 viên xúc xắc\n",
    "# Câu 5a: Xác suất thành công với 2 viên xúc xắc\n",
    "P_success_2_dice = 3 / 36  # Xác suất thành công khi ra \"11\", \"16\" hoặc \"66\"\n",
    "print(f\"Câu 5a: Xác suất thành công với 2 viên xúc xắc là: {P_success_2_dice:.4f}\")\n",
    "\n",
    "# Câu 5b: Lợi nhuận kỳ vọng mỗi lần tung xúc xắc với 2 viên\n",
    "win_amount_2_dice = 3000000\n",
    "expected_profit_2_dice = P_success_2_dice * win_amount_2_dice + (1 - P_success_2_dice) * loss_1\n",
    "print(f\"Câu 5b: Lợi nhuận kỳ vọng mỗi lần tung xúc xắc với 2 viên là: {expected_profit_2_dice:.2f} USD\")\n",
    "\n",
    "# Câu 5c: Lợi nhuận kỳ vọng khi trả 1 triệu đô la để hủy một viên xúc xắc\n",
    "# Xác suất thắng là chỉ cần tung \"1\"\n",
    "P_success_1 = 1 / 6  # Xác suất thắng khi trả 1 triệu USD để hủy 1 viên xúc xắc\n",
    "win_amount_1 = 3000000  # Giả sử mức thắng không thay đổi\n",
    "\n",
    "expected_profit_1 = P_success_1 * win_amount_1 - 1000000  # Trừ đi chi phí 1 triệu USD\n",
    "print(f\"Câu 5c: Lợi nhuận kỳ vọng khi trả 1 triệu đô la để hủy một viên xúc xắc là: {expected_profit_1:.2f} USD\")\n",
    "\n",
    "if expected_profit_1 < 0:\n",
    "    print(\"Với kết quả này, bạn sẽ không trả tiền để hủy viên xúc xắc vì lợi nhuận kỳ vọng là âm.\")\n"
   ]
  },
  {
   "cell_type": "code",
   "execution_count": null,
   "id": "1100b41b-3156-47f9-ba0a-6a4a20871496",
   "metadata": {},
   "outputs": [],
   "source": []
  }
 ],
 "metadata": {
  "kernelspec": {
   "display_name": "Python 3 (ipykernel)",
   "language": "python",
   "name": "python3"
  },
  "language_info": {
   "codemirror_mode": {
    "name": "ipython",
    "version": 3
   },
   "file_extension": ".py",
   "mimetype": "text/x-python",
   "name": "python",
   "nbconvert_exporter": "python",
   "pygments_lexer": "ipython3",
   "version": "3.12.4"
  }
 },
 "nbformat": 4,
 "nbformat_minor": 5
}
